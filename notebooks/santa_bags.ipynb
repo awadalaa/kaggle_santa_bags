{
 "metadata": {
  "name": "",
  "signature": "sha256:715861f48c898f4c6f17d3ca9d8db3da562a9e1fe8624c2b711ad381235b69fa"
 },
 "nbformat": 3,
 "nbformat_minor": 0,
 "worksheets": [
  {
   "cells": [
    {
     "cell_type": "code",
     "collapsed": false,
     "input": [
      "%matplotlib inline\n",
      "import numpy as np # linear algebra\n",
      "import pandas as pd # data processing, CSV file I/O (e.g. pd.read_csv)\n",
      "import random\n",
      "\n",
      "import datetime\n",
      "import warnings\n",
      "import seaborn as sns\n",
      "import matplotlib.pyplot as plt\n",
      "\n",
      "sns.set(style=\"white\", color_codes=True)\n",
      "warnings.filterwarnings(\"ignore\")\n"
     ],
     "language": "python",
     "metadata": {},
     "outputs": [],
     "prompt_number": 1
    },
    {
     "cell_type": "code",
     "collapsed": false,
     "input": [
      "# Read data \n",
      "\n",
      "dateparse = lambda x: datetime.datetime.strptime(x,'%Y-%m-%d %H:%M:%S')\n",
      "\n",
      "# Read/clean data\n",
      "\n",
      "# This Python 3 environment comes with many helpful analytics libraries installed\n",
      "FILE=\"../input/gifts.csv\"\n",
      "d=pd.read_csv(FILE, encoding = \"ISO-8859-1\")"
     ],
     "language": "python",
     "metadata": {},
     "outputs": [],
     "prompt_number": 2
    },
    {
     "cell_type": "code",
     "collapsed": false,
     "input": [
      "d['type'] = d['GiftId'].apply(lambda x: x.split('_')[0])\n",
      "d['id'] = d['GiftId'].apply(lambda x: x.split('_')[1])"
     ],
     "language": "python",
     "metadata": {},
     "outputs": [],
     "prompt_number": 3
    },
    {
     "cell_type": "code",
     "collapsed": false,
     "input": [
      "d['type'].value_counts()"
     ],
     "language": "python",
     "metadata": {},
     "outputs": [
      {
       "metadata": {},
       "output_type": "pyout",
       "prompt_number": 4,
       "text": [
        "book      1200\n",
        "ball      1100\n",
        "horse     1000\n",
        "doll      1000\n",
        "blocks    1000\n",
        "train     1000\n",
        "bike       500\n",
        "gloves     200\n",
        "coal       166\n",
        "Name: type, dtype: int64"
       ]
      }
     ],
     "prompt_number": 4
    },
    {
     "cell_type": "code",
     "collapsed": false,
     "input": [
      "def Weight(mType):\n",
      "    if mType == \"horse\":\n",
      "        return max(0, np.random.normal(5,2,1)[0])\n",
      "    if mType == \"ball\":\n",
      "        return max(0, 1 + np.random.normal(1,0.3,1)[0])\n",
      "    if mType == \"bike\":\n",
      "        return max(0, np.random.normal(20,10,1)[0])\n",
      "    if mType == \"train\":\n",
      "        return max(0, np.random.normal(10,5,1)[0])\n",
      "    if mType == \"coal\":\n",
      "        return 47 * np.random.beta(0.5,0.5,1)[0]\n",
      "    if mType == \"book\":\n",
      "        return np.random.chisquare(2,1)[0]\n",
      "    if mType == \"doll\":\n",
      "        return np.random.gamma(5,1,1)[0]\n",
      "    if mType == \"blocks\":\n",
      "        return np.random.triangular(5,10,20,1)[0]\n",
      "    if mType == \"gloves\":\n",
      "        return 3.0 + np.random.rand(1)[0] if np.random.rand(1) < 0.3 else np.random.rand(1)"
     ],
     "language": "python",
     "metadata": {},
     "outputs": [],
     "prompt_number": 5
    },
    {
     "cell_type": "code",
     "collapsed": false,
     "input": [
      "# Build Weights\n",
      "d['weight'] = d['type'].apply(lambda x: Weight(x))"
     ],
     "language": "python",
     "metadata": {},
     "outputs": [],
     "prompt_number": 6
    },
    {
     "cell_type": "code",
     "collapsed": false,
     "input": [
      "d.head()"
     ],
     "language": "python",
     "metadata": {},
     "outputs": [
      {
       "html": [
        "<div style=\"max-width:1500px;overflow:auto;\">\n",
        "<table border=\"1\" class=\"dataframe\">\n",
        "  <thead>\n",
        "    <tr style=\"text-align: right;\">\n",
        "      <th></th>\n",
        "      <th>GiftId</th>\n",
        "      <th>type</th>\n",
        "      <th>id</th>\n",
        "      <th>weight</th>\n",
        "    </tr>\n",
        "  </thead>\n",
        "  <tbody>\n",
        "    <tr>\n",
        "      <th>0</th>\n",
        "      <td>horse_0</td>\n",
        "      <td>horse</td>\n",
        "      <td>0</td>\n",
        "      <td>6.47996</td>\n",
        "    </tr>\n",
        "    <tr>\n",
        "      <th>1</th>\n",
        "      <td>horse_1</td>\n",
        "      <td>horse</td>\n",
        "      <td>1</td>\n",
        "      <td>5.03732</td>\n",
        "    </tr>\n",
        "    <tr>\n",
        "      <th>2</th>\n",
        "      <td>horse_2</td>\n",
        "      <td>horse</td>\n",
        "      <td>2</td>\n",
        "      <td>4.02647</td>\n",
        "    </tr>\n",
        "    <tr>\n",
        "      <th>3</th>\n",
        "      <td>horse_3</td>\n",
        "      <td>horse</td>\n",
        "      <td>3</td>\n",
        "      <td>3.14278</td>\n",
        "    </tr>\n",
        "    <tr>\n",
        "      <th>4</th>\n",
        "      <td>horse_4</td>\n",
        "      <td>horse</td>\n",
        "      <td>4</td>\n",
        "      <td>6.5668</td>\n",
        "    </tr>\n",
        "  </tbody>\n",
        "</table>\n",
        "</div>"
       ],
       "metadata": {},
       "output_type": "pyout",
       "prompt_number": 7,
       "text": [
        "    GiftId   type id   weight\n",
        "0  horse_0  horse  0  6.47996\n",
        "1  horse_1  horse  1  5.03732\n",
        "2  horse_2  horse  2  4.02647\n",
        "3  horse_3  horse  3  3.14278\n",
        "4  horse_4  horse  4   6.5668"
       ]
      }
     ],
     "prompt_number": 7
    },
    {
     "cell_type": "code",
     "collapsed": false,
     "input": [
      "sns.distplot(d[d['type']=='horse'] ['weight'],bins=100, label=\"horse\" );\n",
      "sns.distplot(d[d['type']=='ball'] ['weight'],bins=100,  label=\"ball\"  );\n",
      "sns.distplot(d[d['type']=='bike']['weight'],bins=100,   label=\"bike\"  );\n",
      "sns.distplot(d[d['type']=='train']['weight'],bins=100,  label=\"train\" );\n",
      "sns.distplot(d[d['type']=='coal']['weight'],bins=100,   label=\"coal\"  );\n",
      "sns.distplot(d[d['type']=='book']['weight'],bins=100,   label=\"book\"  );\n",
      "sns.distplot(d[d['type']=='doll']['weight'],bins=100,   label=\"doll\"  );\n",
      "sns.distplot(d[d['type']=='blocks']['weight'],bins=100,   label=\"blocks\"  );\n",
      "#sns.distplot(d[d['type']=='gloves']['weight'],bins=100,   label=\"gloves\"  );\n",
      "plt.legend();"
     ],
     "language": "python",
     "metadata": {},
     "outputs": [
      {
       "metadata": {},
       "output_type": "display_data",
       "png": "[encoded data removed]",
       "text": [
        "<matplotlib.figure.Figure at 0x116667c10>"
       ]
      }
     ],
     "prompt_number": 8
    },
    {
     "cell_type": "markdown",
     "metadata": {},
     "source": [
      "### Light Items\n",
      "Find maximum weights for each item"
     ]
    },
    {
     "cell_type": "code",
     "collapsed": false,
     "input": [
      "g = d.groupby(['type']).agg({'weight':max})\n",
      "g = g.reset_index()\n",
      "g.sort_values(by=['weight'],ascending=True,inplace=True)\n",
      "g"
     ],
     "language": "python",
     "metadata": {},
     "outputs": [
      {
       "html": [
        "<div style=\"max-width:1500px;overflow:auto;\">\n",
        "<table border=\"1\" class=\"dataframe\">\n",
        "  <thead>\n",
        "    <tr style=\"text-align: right;\">\n",
        "      <th></th>\n",
        "      <th>type</th>\n",
        "      <th>weight</th>\n",
        "    </tr>\n",
        "  </thead>\n",
        "  <tbody>\n",
        "    <tr>\n",
        "      <th>0</th>\n",
        "      <td>ball</td>\n",
        "      <td>2.934123</td>\n",
        "    </tr>\n",
        "    <tr>\n",
        "      <th>6</th>\n",
        "      <td>gloves</td>\n",
        "      <td>3.976876</td>\n",
        "    </tr>\n",
        "    <tr>\n",
        "      <th>7</th>\n",
        "      <td>horse</td>\n",
        "      <td>11.275460</td>\n",
        "    </tr>\n",
        "    <tr>\n",
        "      <th>5</th>\n",
        "      <td>doll</td>\n",
        "      <td>15.949924</td>\n",
        "    </tr>\n",
        "    <tr>\n",
        "      <th>3</th>\n",
        "      <td>book</td>\n",
        "      <td>16.568520</td>\n",
        "    </tr>\n",
        "    <tr>\n",
        "      <th>2</th>\n",
        "      <td>blocks</td>\n",
        "      <td>19.721732</td>\n",
        "    </tr>\n",
        "    <tr>\n",
        "      <th>8</th>\n",
        "      <td>train</td>\n",
        "      <td>25.507244</td>\n",
        "    </tr>\n",
        "    <tr>\n",
        "      <th>4</th>\n",
        "      <td>coal</td>\n",
        "      <td>46.999106</td>\n",
        "    </tr>\n",
        "    <tr>\n",
        "      <th>1</th>\n",
        "      <td>bike</td>\n",
        "      <td>48.469663</td>\n",
        "    </tr>\n",
        "  </tbody>\n",
        "</table>\n",
        "</div>"
       ],
       "metadata": {},
       "output_type": "pyout",
       "prompt_number": 9,
       "text": [
        "     type     weight\n",
        "0    ball   2.934123\n",
        "6  gloves   3.976876\n",
        "7   horse  11.275460\n",
        "5    doll  15.949924\n",
        "3    book  16.568520\n",
        "2  blocks  19.721732\n",
        "8   train  25.507244\n",
        "4    coal  46.999106\n",
        "1    bike  48.469663"
       ]
      }
     ],
     "prompt_number": 9
    },
    {
     "cell_type": "code",
     "collapsed": false,
     "input": [
      "from sklearn.utils import shuffle\n",
      "d = shuffle(d)\n",
      "d.head()"
     ],
     "language": "python",
     "metadata": {},
     "outputs": [
      {
       "html": [
        "<div style=\"max-width:1500px;overflow:auto;\">\n",
        "<table border=\"1\" class=\"dataframe\">\n",
        "  <thead>\n",
        "    <tr style=\"text-align: right;\">\n",
        "      <th></th>\n",
        "      <th>GiftId</th>\n",
        "      <th>type</th>\n",
        "      <th>id</th>\n",
        "      <th>weight</th>\n",
        "    </tr>\n",
        "  </thead>\n",
        "  <tbody>\n",
        "    <tr>\n",
        "      <th>5306</th>\n",
        "      <td>doll_340</td>\n",
        "      <td>doll</td>\n",
        "      <td>340</td>\n",
        "      <td>7.3297</td>\n",
        "    </tr>\n",
        "    <tr>\n",
        "      <th>4344</th>\n",
        "      <td>book_578</td>\n",
        "      <td>book</td>\n",
        "      <td>578</td>\n",
        "      <td>0.16813</td>\n",
        "    </tr>\n",
        "    <tr>\n",
        "      <th>2854</th>\n",
        "      <td>train_254</td>\n",
        "      <td>train</td>\n",
        "      <td>254</td>\n",
        "      <td>18.2366</td>\n",
        "    </tr>\n",
        "    <tr>\n",
        "      <th>2212</th>\n",
        "      <td>bike_112</td>\n",
        "      <td>bike</td>\n",
        "      <td>112</td>\n",
        "      <td>30.4395</td>\n",
        "    </tr>\n",
        "    <tr>\n",
        "      <th>1934</th>\n",
        "      <td>ball_934</td>\n",
        "      <td>ball</td>\n",
        "      <td>934</td>\n",
        "      <td>2.03935</td>\n",
        "    </tr>\n",
        "  </tbody>\n",
        "</table>\n",
        "</div>"
       ],
       "metadata": {},
       "output_type": "pyout",
       "prompt_number": 13,
       "text": [
        "         GiftId   type   id   weight\n",
        "5306   doll_340   doll  340   7.3297\n",
        "4344   book_578   book  578  0.16813\n",
        "2854  train_254  train  254  18.2366\n",
        "2212   bike_112   bike  112  30.4395\n",
        "1934   ball_934   ball  934  2.03935"
       ]
      }
     ],
     "prompt_number": 13
    },
    {
     "cell_type": "code",
     "collapsed": false,
     "input": [
      "len(d)"
     ],
     "language": "python",
     "metadata": {},
     "outputs": [
      {
       "metadata": {},
       "output_type": "pyout",
       "prompt_number": 14,
       "text": [
        "7166"
       ]
      }
     ],
     "prompt_number": 14
    },
    {
     "cell_type": "code",
     "collapsed": false,
     "input": [
      "W = 50 # max weight per bag\n",
      "max_bags = 1000 # max num bags\n",
      "min_gifts = 3 # per bag\n",
      "\n",
      "bags = []\n",
      "\n",
      "gift_index = 0\n",
      "for bag_num in range(0, max_bags):\n",
      "    bags.append([])\n",
      "    bag_weight = 0\n",
      "    prev_weight = 0\n",
      "    for x in range(gift_index, len(d) - 1):\n",
      "        gift_index = x\n",
      "        bag_weight = bag_weight + d.iloc[gift_index]['weight']\n",
      "        if (bag_weight < 50):\n",
      "            bags[bag_num].append(d.iloc[gift_index]['GiftId'])\n",
      "        else:\n",
      "            break\n",
      "\n"
     ],
     "language": "python",
     "metadata": {},
     "outputs": []
    },
    {
     "cell_type": "code",
     "collapsed": false,
     "input": [
      "bags = []\n",
      "for x in range(0, 1000):\n",
      "    bags.append([])\n",
      "\n",
      "bag = 0\n",
      "for x in range(0, len(d) - 1):\n",
      "    bags[bag].append(d.iloc[x]['GiftId'])\n",
      "    bag += 1\n",
      "    if bag > 999:\n",
      "        bag = 0"
     ],
     "language": "python",
     "metadata": {},
     "outputs": [],
     "prompt_number": 17
    },
    {
     "cell_type": "code",
     "collapsed": false,
     "input": [
      "# first try randomly shuffle items into 1000 bags\n",
      "submit_df = pd.DataFrame({\"Gifts\": [\" \".join(b) for b in bags]})\n",
      "submit_df.to_csv(\"submission.csv\", sep=\",\", index=False)"
     ],
     "language": "python",
     "metadata": {},
     "outputs": [],
     "prompt_number": 18
    },
    {
     "cell_type": "code",
     "collapsed": false,
     "input": [
      "# By NxGTR\n",
      "\n",
      "#What's my optimal number of submissions?\n",
      "numTeams=222\n",
      "print (int((99.0/((numTeams/5.0)+1.0))-1.0))"
     ],
     "language": "python",
     "metadata": {},
     "outputs": [
      {
       "output_type": "stream",
       "stream": "stdout",
       "text": [
        "1\n"
       ]
      }
     ],
     "prompt_number": 19
    },
    {
     "cell_type": "code",
     "collapsed": false,
     "input": [],
     "language": "python",
     "metadata": {},
     "outputs": []
    }
   ],
   "metadata": {}
  }
 ]
}